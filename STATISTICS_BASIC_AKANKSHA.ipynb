{
  "nbformat": 4,
  "nbformat_minor": 0,
  "metadata": {
    "colab": {
      "provenance": []
    },
    "kernelspec": {
      "name": "python3",
      "display_name": "Python 3"
    },
    "language_info": {
      "name": "python"
    }
  },
  "cells": [
    {
      "cell_type": "code",
      "execution_count": null,
      "metadata": {
        "id": "Fb5I4Bciv5Bk"
      },
      "outputs": [],
      "source": []
    },
    {
      "cell_type": "markdown",
      "source": [
        "THEORY QUESTIONS"
      ],
      "metadata": {
        "id": "tL5yj36Nv6WX"
      }
    },
    {
      "cell_type": "markdown",
      "source": [
        "Q1. What is the difference between descriptive statistics and inferential statistics? Explain with examples."
      ],
      "metadata": {
        "id": "pB12wZyQv-aj"
      }
    },
    {
      "cell_type": "markdown",
      "source": [
        "Ans. DESCRIPTIVE STATISTICS DEFINITION: Descriptive statistics summarize and organize characteristics of a known data set. They describe what the data shows.\n",
        "\n",
        "Purpose: To provide a quick overview of the main features of a dataset without making any predictions or generalizations.\n",
        "\n",
        "Examples: ● Mean, median, mode (measures of central tendency) ● Standard deviation, range, variance (measures of variability) ● Graphs: Bar charts, pie charts, histograms\n",
        "\n",
        "Example Scenario: A teacher calculates the average marks of her 30 students in a math test: ● Mean score = 72 ● Median = 75 ● Standard deviation = 8 This tells the teacher how her students performed overall, but only for that class.\n",
        "\n",
        "INFERENTIAL STATISTICS DEFINITION: Inferential statistics use a sample of data to make predictions or generalizations about a larger population.\n",
        "\n",
        "Purpose: To draw conclusions, test hypotheses, and make predictions beyond the immediate data.\n",
        "\n",
        "Examples: ● Hypothesis testing (e.g., t-test, chi-square test) ● Confidence intervals ● Regression analysis ● p-values and statistical significance\n",
        "\n",
        "Example Scenario: A researcher wants to know the average height of all 10th-grade students in India. She selects a random sample of 200 students, calculates their average height, and then uses inferential statistics to estimate the average height of the entire population of 10th graders in India."
      ],
      "metadata": {
        "id": "mjhdL-T3wEUm"
      }
    },
    {
      "cell_type": "markdown",
      "source": [
        "Q2. What is sampling in statistics? Explain the differences between random and stratified sampling?\n",
        "\n"
      ],
      "metadata": {
        "id": "nSheFzQzwO59"
      }
    },
    {
      "cell_type": "markdown",
      "source": [
        "Ans. Sampling is the process of selecting a subset (called a sample) from a larger group (called a population) to collect data and draw conclusions about the whole population without surveying every individual.\n",
        "\n",
        "DIFFERENCES BETWEEN RANDOM AND STRATIFIED SAMPLING\n",
        "\n",
        "1.Random Sampling In random sampling, every individual or item in the population has an equal chance of being selected. This method is straightforward and helps avoid bias, assuming the population is homogeneous (fairly similar throughout). For example, if you're selecting 50 students randomly from a school of 1000, each student has the same 1-in-20 chance of being picked.\n",
        "\n",
        "The main idea is simple randomness, like drawing names from a hat or using a random number generator. However, it doesn't guarantee representation from all groups within the population. For instance, if the population includes different age groups, castes, income levels, or regions, a purely random sample might overrepresent some groups and underrepresent others by chance.\n",
        "\n",
        "Stratified Sampling Stratified sampling solves that problem. The population is first divided into subgroups, or strata, based on shared characteristics—such as gender, age, income level, or education. Then, random samples are taken from each subgroup. This ensures that every subgroup is properly represented in the sample.\n",
        "\n",
        "For example, if a population consists of 60% females and 40% males, and you want to sample 100 people, a stratified sample might include 60 females and 40 males—chosen randomly within each group. This method is especially useful when the population is diverse and you want to ensure fairness and accuracy."
      ],
      "metadata": {
        "id": "RhtCrToWwS6L"
      }
    },
    {
      "cell_type": "markdown",
      "source": [
        "Q3. Define mean, median, and mode. Explain why these measures of central tendency are important?"
      ],
      "metadata": {
        "id": "t6Hvkh1nwb25"
      }
    },
    {
      "cell_type": "markdown",
      "source": [
        "Ans. 1. Mean (Arithmetic Average) Definition: The mean is the sum of all values divided by the number of values.\n",
        "\n",
        "Formula: Mean=Sum of all data valuesNumber of data values\\text{Mean} = \\frac{\\text{Sum of all data values}}{\\text{Number of data values}}Mean=Number of data valuesSum of all data values\n",
        "\n",
        "Example: Data: 4, 6, 8, 10 Mean = (4 + 6 + 8 + 10) ÷ 4 = 28 ÷ 4 = 7\n",
        "\n",
        "*Usefulness: ● Good for balanced datasets with no extreme values ● Often used in finance, economics, education\n",
        "\n",
        "Median Definition: The median is the middle value in an ordered dataset. ● If the number of values is odd, it's the middle value. ● If even, it's the average of the two middle values.\n",
        "Example: Data: 5, 7, 9 → Median = 7 (middle value) Data: 3, 6, 8, 10 → Median = (6 + 8)/2 = 7\n",
        "\n",
        "Usefulness: ● Unaffected by outliers (e.g., one very large or very small number)\n",
        "● Ideal for skewed distributions, such as income data\n",
        "\n",
        "Mode Definition: The mode is the value(s) that appear most frequently in a dataset.\n",
        "Example: Data: 2, 4, 4, 6, 7 → Mode = 4 (appears twice) Data: 1, 2, 3, 3, 4, 4 → Modes = 3 and 4 (bimodal)\n",
        "Usefulness: ● Helps identify the most common or popular item ● Useful for categorical data (e.g., favorite fruit, shoe size)\n",
        "\n",
        "**Why Are These Measures Important?\n",
        "\n",
        "Measure Mean Importance Gives a general average; used in most analyses Median Shows the central position; better when data is skewed Mode Identifies the most frequent value; useful for patterns and trends."
      ],
      "metadata": {
        "id": "_4i_w9dDwhjs"
      }
    },
    {
      "cell_type": "markdown",
      "source": [
        "Q4. Explain skewness and kurtosis. What does a positive skew imply about the data?"
      ],
      "metadata": {
        "id": "kJzgmqzwwmRh"
      }
    },
    {
      "cell_type": "markdown",
      "source": [
        "Ans. 1. SKEWNESS\n",
        "\n",
        "Skewness measures the asymmetry of a data distribution.\n",
        "\n",
        "● If a distribution is symmetrical, it has zero skewness. ● If it is not symmetrical, it is skewed either left (negative) or right (positive).\n",
        "\n",
        "Types of Skewness:\n",
        "\n",
        "Type Tail Direction Mean vs Median\n",
        "\n",
        "Positive Skew Long tail on the right Mean > Median\n",
        "\n",
        "Negative Skew Long tail on the left Mean < Median\n",
        "\n",
        "Zero Skew Symmetrical Mean ≈ Median\n",
        "\n",
        "KURTOSIS\n",
        "Kurtosis measures the \"tailedness\" or peakedness of a distribution — how much of the variance is due to extreme values.\n",
        "\n",
        "Types of Kurtosis:\n",
        "\n",
        "Type Shape Tails\n",
        "\n",
        "Mesokurtic (k = 3) Normal peak Moderate tails\n",
        "\n",
        "Leptokurtic (k > 3) Sharp peak Heavy/fat tails (more outliers)\n",
        "\n",
        "Platykurtic (k < 3) Flat peak Thin tails (fewer outliers)\n",
        "\n",
        "What Does a Positive Skew Imply About the Data?\n",
        "\n",
        "A positive skew (right-skewed distribution) means:\n",
        "\n",
        "● Most of the values are concentrated on the lower end. ● There are a few very large values stretching the tail to the right. ● The mean is greater than the median.\n",
        "\n",
        "Example:\n",
        "\n",
        "● Income distribution: Most people earn moderate salaries, but a few earn very high incomes, causing a long right tail."
      ],
      "metadata": {
        "id": "VbVAzjnKwrHX"
      }
    },
    {
      "cell_type": "markdown",
      "source": [
        "Q5.  Implement a Python program to compute the mean, median, and mode of a given list of numbers.\n",
        "numbers = [12, 15, 12, 18, 19, 12, 20, 22, 19, 19, 24, 24, 24, 26, 28]"
      ],
      "metadata": {
        "id": "PCeN8CJ2wzUu"
      }
    },
    {
      "cell_type": "code",
      "source": [
        "import statistics\n",
        "\n",
        "# Given list\n",
        "numbers = [12, 15, 12, 18, 19, 12, 20, 22, 19, 19, 24, 24, 24, 26, 28]\n",
        "\n",
        "# Calculate mean\n",
        "mean_value = statistics.mean(numbers)\n",
        "\n",
        "# Calculate median\n",
        "median_value = statistics.median(numbers)\n",
        "\n",
        "# Calculate mode\n",
        "mode_value = statistics.mode(numbers)\n",
        "\n",
        "# Display results\n",
        "print(f\"Mean: {mean_value}\")\n",
        "print(f\"Median: {median_value}\")\n",
        "print(f\"Mode: {mode_value}\")"
      ],
      "metadata": {
        "colab": {
          "base_uri": "https://localhost:8080/"
        },
        "id": "4-wKEu9rw4cE",
        "outputId": "30a91402-3bea-4714-89da-80363fc7b209"
      },
      "execution_count": 1,
      "outputs": [
        {
          "output_type": "stream",
          "name": "stdout",
          "text": [
            "Mean: 19.6\n",
            "Median: 19\n",
            "Mode: 12\n"
          ]
        }
      ]
    },
    {
      "cell_type": "markdown",
      "source": [
        "Q6. Compute the covariance and correlation coefficient between the following two datasets provided as lists in Python:\n",
        "list_x = [10, 20, 30, 40, 50]\n",
        "list_y = [15, 25, 35, 45, 60]"
      ],
      "metadata": {
        "id": "4I849ogMxBp5"
      }
    },
    {
      "cell_type": "code",
      "source": [
        "import numpy as np\n",
        "\n",
        "# Given lists\n",
        "list_x = [10, 20, 30, 40, 50]\n",
        "list_y = [15, 25, 35, 45, 60]\n",
        "\n",
        "# Convert to NumPy arrays\n",
        "x = np.array(list_x)\n",
        "y = np.array(list_y)\n",
        "\n",
        "# Compute covariance matrix\n",
        "cov_matrix = np.cov(x, y, bias=False)\n",
        "covariance = cov_matrix[0, 1]\n",
        "\n",
        "# Compute correlation coefficient\n",
        "correlation_matrix = np.corrcoef(x, y)\n",
        "correlation = correlation_matrix[0, 1]\n",
        "\n",
        "# Display results\n",
        "print(f\"Covariance: {covariance}\")\n",
        "print(f\"Correlation Coefficient: {correlation}\")"
      ],
      "metadata": {
        "colab": {
          "base_uri": "https://localhost:8080/"
        },
        "id": "kgHxIJ_NxGNx",
        "outputId": "112058da-7925-411c-9fca-c9c106ca90d4"
      },
      "execution_count": 2,
      "outputs": [
        {
          "output_type": "stream",
          "name": "stdout",
          "text": [
            "Covariance: 275.0\n",
            "Correlation Coefficient: 0.995893206467704\n"
          ]
        }
      ]
    },
    {
      "cell_type": "markdown",
      "source": [
        "Q7.  Write a Python script to draw a boxplot for the following numeric list and identify its outliers. Explain the result:\n",
        "data = [12, 14, 14, 15, 18, 19, 19, 21, 22, 22, 23, 23, 24, 26, 29, 35]"
      ],
      "metadata": {
        "id": "Vi7tIfvqxMEi"
      }
    },
    {
      "cell_type": "code",
      "source": [
        "import matplotlib.pyplot as plt\n",
        "import numpy as np\n",
        "\n",
        "# Given data\n",
        "data = [12, 14, 14, 15, 18, 19, 19, 21, 22, 22, 23, 23, 24, 26, 29, 35]\n",
        "\n",
        "# Draw boxplot\n",
        "plt.boxplot(data, vert=False, patch_artist=True, boxprops=dict(facecolor=\"skyblue\"))\n",
        "plt.title(\"Boxplot of Data with Outlier Detection\")\n",
        "plt.xlabel(\"Value\")\n",
        "plt.grid(True)\n",
        "plt.show()\n",
        "\n",
        "# Identify outliers using IQR method\n",
        "Q1 = np.percentile(data, 25)\n",
        "Q3 = np.percentile(data, 75)\n",
        "IQR = Q3 - Q1\n",
        "\n",
        "lower_bound = Q1 - 1.5 * IQR\n",
        "upper_bound = Q3 + 1.5 * IQR\n",
        "\n",
        "outliers = [x for x in data if x < lower_bound or x > upper_bound]\n",
        "\n",
        "print(f\"Q1: {Q1}\")\n",
        "print(f\"Q3: {Q3}\")\n",
        "print(f\"IQR: {IQR}\")\n",
        "print(f\"Lower Bound: {lower_bound}\")\n",
        "print(f\"Upper Bound: {upper_bound}\")\n",
        "print(f\"Outliers: {outliers}\")"
      ],
      "metadata": {
        "colab": {
          "base_uri": "https://localhost:8080/",
          "height": 576
        },
        "id": "JMEkXC_PxRqB",
        "outputId": "cba1dc3a-1dfc-42ed-9423-17244b89400b"
      },
      "execution_count": 3,
      "outputs": [
        {
          "output_type": "display_data",
          "data": {
            "text/plain": [
              "<Figure size 640x480 with 1 Axes>"
            ],
            "image/png": "[encoded data removed]"
          },
          "metadata": {}
        },
        {
          "output_type": "stream",
          "name": "stdout",
          "text": [
            "Q1: 17.25\n",
            "Q3: 23.25\n",
            "IQR: 6.0\n",
            "Lower Bound: 8.25\n",
            "Upper Bound: 32.25\n",
            "Outliers: [35]\n"
          ]
        }
      ]
    },
    {
      "cell_type": "markdown",
      "source": [
        "Q8. You are working as a data analyst in an e-commerce company. The marketing team wants to know if there is a relationship between advertising spend and daily sales.\n",
        "● Explain how you would use covariance and correlation to explore this relationship?"
      ],
      "metadata": {
        "id": "8BznJLkHxX0w"
      }
    },
    {
      "cell_type": "markdown",
      "source": [
        "Ans. 1. Covariance ● Definition: Measures the direction of the linear relationship between two variables.\n",
        "● Interpretation:\n",
        "\n",
        "○ Positive covariance: As advertising increases, sales tend to increase.\n",
        "\n",
        "○ Negative covariance: As advertising increases, sales tend to decrease.\n",
        "\n",
        "○ Near zero: No clear linear relationship.\n",
        "\n",
        "● Limitation: Covariance is not scaled, so you can't compare strength across datasets. � �\n",
        "\n",
        "Correlation Coefficient (Pearson's r)\n",
        "\n",
        " ● Definition: Measures the strength and direction of the linear relationship. It is scaled between -1 and +1. ● Interpretation: ○ +1: Perfect positive linear relationship ○ 0: No linear relationship ○ –1: Perfect negative linear relationship ● Usefulness: More interpretable and unit-free than covariance."
      ],
      "metadata": {
        "id": "SYKXVVG9xdst"
      }
    },
    {
      "cell_type": "markdown",
      "source": [
        "● Write Python code to compute the correlation between the two lists:"
      ],
      "metadata": {
        "id": "2tDvfSbyx3_B"
      }
    },
    {
      "cell_type": "code",
      "source": [
        "import numpy as np\n",
        "# Given data\n",
        "advertising_spend = [200, 250, 300, 400, 500]\n",
        "daily_sales = [2200, 2450, 2750, 3200, 4000]\n",
        "# Convert to NumPy arrays\n",
        "ad = np.array(advertising_spend)\n",
        "sales = np.array(daily_sales)\n",
        "# Covariance matrix\n",
        "cov_matrix = np.cov(ad, sales, bias=False)\n",
        "covariance = cov_matrix[0, 1]\n",
        "# Correlation matrix\n",
        "corr_matrix = np.corrcoef(ad, sales)\n",
        "correlation = corr_matrix[0, 1]\n",
        "# Output\n",
        "print(f\"Covariance: {covariance}\")\n",
        "print(f\"Correlation Coefficient: {correlation}\")"
      ],
      "metadata": {
        "colab": {
          "base_uri": "https://localhost:8080/"
        },
        "id": "RZILlW_3x7gp",
        "outputId": "a146b5e5-9566-4089-d301-dad166f8198c"
      },
      "execution_count": 4,
      "outputs": [
        {
          "output_type": "stream",
          "name": "stdout",
          "text": [
            "Covariance: 84875.0\n",
            "Correlation Coefficient: 0.9935824101653329\n"
          ]
        }
      ]
    },
    {
      "cell_type": "markdown",
      "source": [
        "Q9. Your team has collected customer satisfaction survey data on a scale of 1-10 and wants to understand its distribution before launching a new product.\n",
        "\n",
        "● Explain which summary statistics and visualizations (e.g. mean, standard deviation, histogram) you’d use."
      ],
      "metadata": {
        "id": "leAwRaLUyAdy"
      }
    },
    {
      "cell_type": "markdown",
      "source": [
        "Ans. 1. Summary Statistics to Use: Statistic Purpose Mean Average satisfaction score Median Middle value, useful for skewed data Mode Most frequent score Standard Deviation Measures variability in satisfaction Min/Max Range of satisfaction Skewness/Kurtosis (Optional) Shape and spread insights � �\n",
        "\n",
        "Visualizations to Use: Visualization Histogram Boxplot Bar chart Purpose Shows the distribution of scores Highlights spread and outliers Good if scores are categorical (1–10 scale)."
      ],
      "metadata": {
        "id": "yyeLeAWDyHqz"
      }
    },
    {
      "cell_type": "markdown",
      "source": [
        "● Write Python code to create a histogram using Matplotlib for the survey data:\n",
        "survey_scores = [7, 8, 5, 9, 6, 7, 8, 9, 10, 4, 7, 6, 9, 8, 7]"
      ],
      "metadata": {
        "id": "assf51gTyMik"
      }
    },
    {
      "cell_type": "code",
      "source": [
        "import matplotlib.pyplot as plt\n",
        "import numpy as np\n",
        "import statistics\n",
        "# Survey data\n",
        "survey_scores = [7, 8, 5, 9, 6, 7, 8, 9, 10, 4, 7, 6, 9, 8, 7]\n",
        "# Summary statistics\n",
        "mean = statistics.mean(survey_scores)\n",
        "median = statistics.median(survey_scores)\n",
        "mode = statistics.mode(survey_scores)\n",
        "std_dev = statistics.stdev(survey_scores)\n",
        "print(f\"Mean: {mean}\")\n",
        "print(f\"Median: {median}\")\n",
        "print(f\"Mode: {mode}\")\n",
        "print(f\"Standard Deviation: {std_dev:.2f}\")\n",
        "# Histogram\n",
        "plt.hist(survey_scores, bins=7, color='skyblue', edgecolor='black')\n",
        "plt.title(\"Customer Satisfaction Survey Scores\")\n",
        "plt.xlabel(\"Score (1–10)\")\n",
        "plt.ylabel(\"Frequency\")\n",
        "plt.grid(axis='y', linestyle='--', alpha=0.7)\n",
        "plt.axvline(mean, color='red', linestyle='dashed', linewidth=1.5,\n",
        "label=f'Mean = {mean:.1f}')\n",
        "plt.axvline(median, color='green', linestyle='dashed', linewidth=1.5,\n",
        "label=f'Median = {median}')\n",
        "plt.legend()\n",
        "plt.tight_layout()\n",
        "plt.show()"
      ],
      "metadata": {
        "colab": {
          "base_uri": "https://localhost:8080/",
          "height": 556
        },
        "id": "K3blUpO-yPlJ",
        "outputId": "ab11cd12-2211-4487-f916-23713b4b458c"
      },
      "execution_count": 5,
      "outputs": [
        {
          "output_type": "stream",
          "name": "stdout",
          "text": [
            "Mean: 7.333333333333333\n",
            "Median: 7\n",
            "Mode: 7\n",
            "Standard Deviation: 1.63\n"
          ]
        },
        {
          "output_type": "display_data",
          "data": {
            "text/plain": [
              "<Figure size 640x480 with 1 Axes>"
            ],
            "image/png": "[encoded data removed]"
          },
          "metadata": {}
        }
      ]
    }
  ]
}